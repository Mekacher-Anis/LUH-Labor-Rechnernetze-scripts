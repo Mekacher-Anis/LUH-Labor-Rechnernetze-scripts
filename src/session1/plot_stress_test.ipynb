{
 "cells": [
  {
   "cell_type": "code",
   "execution_count": null,
   "metadata": {},
   "outputs": [],
   "source": [
    "import matplotlib.pyplot as plt\n",
    "import pandas as pd\n",
    "\n",
    "\n",
    "for i, style in [(1, 'r'), (2, 'b--'), (4, \"g-.\")]:\n",
    "    # CSV-Datei importieren\n",
    "    df = pd.read_csv(f\"./output/iperf_tcp_receiver1_{i}.csv\", delimiter=\",\")\n",
    "    data = df.to_numpy()\n",
    "\n",
    "    # Durchsatzwerte extrahieren\n",
    "    tp = data[:60, 2]\n",
    "    tp_avg = data[61, 2]\n",
    "\n",
    "    # Durchsatzwerte in Mbps umrechnen\n",
    "    tp = tp / 1000000\n",
    "    tp_avg = tp_avg / 1000000\n",
    "\n",
    "    # Durchsatzverlauf plotten\n",
    "    plt.plot(tp, style)\n",
    "\n",
    "    # Durchsatzdurchschnitt ausgeben\n",
    "    print(f'Average transfer rate for {i} parallel streams: ', tp_avg)\n",
    "\n",
    "plt.xlabel(\"Time (s)\")\n",
    "plt.ylabel(\"Throughput (Mbps)\")\n",
    "plt.show()"
   ]
  }
 ],
 "metadata": {
  "kernelspec": {
   "display_name": "rl_exercises",
   "language": "python",
   "name": "python3"
  },
  "language_info": {
   "codemirror_mode": {
    "name": "ipython",
    "version": 3
   },
   "file_extension": ".py",
   "mimetype": "text/x-python",
   "name": "python",
   "nbconvert_exporter": "python",
   "pygments_lexer": "ipython3",
   "version": "3.10.13"
  }
 },
 "nbformat": 4,
 "nbformat_minor": 2
}
